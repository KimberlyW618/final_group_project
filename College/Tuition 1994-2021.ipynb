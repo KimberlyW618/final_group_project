{
 "cells": [
  {
   "cell_type": "code",
   "execution_count": 5,
   "id": "992877b9",
   "metadata": {},
   "outputs": [],
   "source": [
    "import os\n",
    "import pandas as pd\n",
    "import glob"
   ]
  },
  {
   "cell_type": "code",
   "execution_count": 15,
   "id": "268b72c4",
   "metadata": {},
   "outputs": [],
   "source": [
    "# use glob to get all the csv files\n",
    "# in the folder\n",
    "path = os.getcwd()\n",
    "file_list = glob.glob(os.path.join(path,\"*.xls\"))"
   ]
  },
  {
   "cell_type": "code",
   "execution_count": 16,
   "id": "4c47bcce",
   "metadata": {},
   "outputs": [
    {
     "name": "stdout",
     "output_type": "stream",
     "text": [
      "\n"
     ]
    }
   ],
   "source": [
    "# list of excel files we want to merge.\n",
    "# pd.read_excel(file_path) reads the \n",
    "# excel data into pandas dataframe.\n",
    "excl_list = []\n",
    " \n",
    "for file in file_list:\n",
    "    excl_list.append(pd.read_excel(file))\n",
    " \n",
    "# concatenate all DataFrames in the list\n",
    "# into a single DataFrame, returns new\n",
    "# DataFrame.\n",
    "excl_merged = pd.concat(excl_list, ignore_index=True)\n",
    " \n",
    "# exports the dataframe into excel file\n",
    "# with specified name.\n",
    "excl_merged.to_excel('Bank_Stocks.xlsx', index=False)\n",
    "print()"
   ]
  },
  {
   "cell_type": "code",
   "execution_count": null,
   "id": "f89b067d",
   "metadata": {},
   "outputs": [],
   "source": []
  }
 ],
 "metadata": {
  "kernelspec": {
   "display_name": "PythonData",
   "language": "python",
   "name": "pythondata"
  },
  "language_info": {
   "codemirror_mode": {
    "name": "ipython",
    "version": 3
   },
   "file_extension": ".py",
   "mimetype": "text/x-python",
   "name": "python",
   "nbconvert_exporter": "python",
   "pygments_lexer": "ipython3",
   "version": "3.9.13"
  }
 },
 "nbformat": 4,
 "nbformat_minor": 5
}
