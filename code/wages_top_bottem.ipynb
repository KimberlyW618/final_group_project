{
 "cells": [
  {
   "cell_type": "code",
   "execution_count": 1,
   "id": "4168a96e",
   "metadata": {},
   "outputs": [],
   "source": [
    "import pandas as pd\n"
   ]
  },
  {
   "cell_type": "code",
   "execution_count": 20,
   "id": "a11c4520",
   "metadata": {},
   "outputs": [
    {
     "data": {
      "text/html": [
       "<div>\n",
       "<style scoped>\n",
       "    .dataframe tbody tr th:only-of-type {\n",
       "        vertical-align: middle;\n",
       "    }\n",
       "\n",
       "    .dataframe tbody tr th {\n",
       "        vertical-align: top;\n",
       "    }\n",
       "\n",
       "    .dataframe thead th {\n",
       "        text-align: right;\n",
       "    }\n",
       "</style>\n",
       "<table border=\"1\" class=\"dataframe\">\n",
       "  <thead>\n",
       "    <tr style=\"text-align: right;\">\n",
       "      <th></th>\n",
       "      <th>0</th>\n",
       "    </tr>\n",
       "  </thead>\n",
       "  <tbody>\n",
       "    <tr>\n",
       "      <th>0</th>\n",
       "      <td>Date,\"Bottom 90% average annual wages\",\"90-95t...</td>\n",
       "    </tr>\n",
       "    <tr>\n",
       "      <th>1</th>\n",
       "      <td>2021,\"$36,571.00\",\"$129,724.00\",\"$215,032.00\",...</td>\n",
       "    </tr>\n",
       "    <tr>\n",
       "      <th>2</th>\n",
       "      <td>2020,\"$36,660.00\",\"$132,401.00\",\"$215,771.00\",...</td>\n",
       "    </tr>\n",
       "    <tr>\n",
       "      <th>3</th>\n",
       "      <td>2019,\"$36,655.00\",\"$129,259.00\",\"$209,137.00\",...</td>\n",
       "    </tr>\n",
       "    <tr>\n",
       "      <th>4</th>\n",
       "      <td>2018,\"$35,941.00\",\"$127,211.00\",\"$204,983.00\",...</td>\n",
       "    </tr>\n",
       "    <tr>\n",
       "      <th>...</th>\n",
       "      <td>...</td>\n",
       "    </tr>\n",
       "    <tr>\n",
       "      <th>67</th>\n",
       "      <td>1955,\"$20,811.00\",\"$48,994.00\",\"$66,984.00\",\"$...</td>\n",
       "    </tr>\n",
       "    <tr>\n",
       "      <th>68</th>\n",
       "      <td>1954,\"$19,899.00\",\"$46,484.00\",\"$64,833.00\",\"$...</td>\n",
       "    </tr>\n",
       "    <tr>\n",
       "      <th>69</th>\n",
       "      <td>1953,\"$19,848.00\",\"$46,535.00\",\"$63,017.00\",\"$...</td>\n",
       "    </tr>\n",
       "    <tr>\n",
       "      <th>70</th>\n",
       "      <td>1952,\"$18,623.00\",\"$44,022.00\",\"$60,186.00\",\"$...</td>\n",
       "    </tr>\n",
       "    <tr>\n",
       "      <th>71</th>\n",
       "      <td>1951,\"$17,886.00\",\"$42,957.00\",\"$58,678.00\",\"$...</td>\n",
       "    </tr>\n",
       "  </tbody>\n",
       "</table>\n",
       "<p>72 rows × 1 columns</p>\n",
       "</div>"
      ],
      "text/plain": [
       "                                                    0\n",
       "0   Date,\"Bottom 90% average annual wages\",\"90-95t...\n",
       "1   2021,\"$36,571.00\",\"$129,724.00\",\"$215,032.00\",...\n",
       "2   2020,\"$36,660.00\",\"$132,401.00\",\"$215,771.00\",...\n",
       "3   2019,\"$36,655.00\",\"$129,259.00\",\"$209,137.00\",...\n",
       "4   2018,\"$35,941.00\",\"$127,211.00\",\"$204,983.00\",...\n",
       "..                                                ...\n",
       "67  1955,\"$20,811.00\",\"$48,994.00\",\"$66,984.00\",\"$...\n",
       "68  1954,\"$19,899.00\",\"$46,484.00\",\"$64,833.00\",\"$...\n",
       "69  1953,\"$19,848.00\",\"$46,535.00\",\"$63,017.00\",\"$...\n",
       "70  1952,\"$18,623.00\",\"$44,022.00\",\"$60,186.00\",\"$...\n",
       "71  1951,\"$17,886.00\",\"$42,957.00\",\"$58,678.00\",\"$...\n",
       "\n",
       "[72 rows x 1 columns]"
      ]
     },
     "execution_count": 20,
     "metadata": {},
     "output_type": "execute_result"
    }
   ],
   "source": [
    "df1= pd.read_csv(\"data_1.csv\", header=None)\n",
    "df1"
   ]
  },
  {
   "cell_type": "code",
   "execution_count": 21,
   "id": "5c3a260e",
   "metadata": {},
   "outputs": [
    {
     "data": {
      "text/plain": [
       "Int64Index([0], dtype='int64')"
      ]
     },
     "execution_count": 21,
     "metadata": {},
     "output_type": "execute_result"
    }
   ],
   "source": [
    "df1.columns"
   ]
  },
  {
   "cell_type": "code",
   "execution_count": 27,
   "id": "3cc528fb",
   "metadata": {},
   "outputs": [],
   "source": [
    "def split_into_cols(x):\n",
    "    return x.split(',')\n",
    "    \n",
    "df = pd.DataFrame(df1[0].apply(split_into_cols).to_list())\n",
    "df.columns = df.iloc[0]\n",
    "df.drop([0], inplace=True)"
   ]
  },
  {
   "cell_type": "code",
   "execution_count": 31,
   "id": "4b04bd23",
   "metadata": {},
   "outputs": [
    {
     "data": {
      "text/plain": [
       "Index([                              'Date',\n",
       "        '\"Bottom 90% average annual wages\"',\n",
       "           '\"90-95th average annual wages\"',\n",
       "         '\"95th-99th average annual wages\"',\n",
       "         '\"90th-99th average annual wages\"',\n",
       "            '\"top 5% average annual wages\"',\n",
       "       '\"99th-99.9th average annual wages\"',\n",
       "        '\"Upper 0.1% average annual wages\"',\n",
       "        '\"99th-100th average annual wages\"',\n",
       "                                       None,\n",
       "                                       None,\n",
       "                                       None,\n",
       "                                       None,\n",
       "                                       None,\n",
       "                                       None,\n",
       "                                       None,\n",
       "                                       None,\n",
       "                                       None],\n",
       "      dtype='object', name=0)"
      ]
     },
     "execution_count": 31,
     "metadata": {},
     "output_type": "execute_result"
    }
   ],
   "source": [
    "df.columns"
   ]
  },
  {
   "cell_type": "code",
   "execution_count": 35,
   "id": "2e932d3d",
   "metadata": {},
   "outputs": [],
   "source": [
    "df.iloc[:,:9].to_csv(\"wages_top_bottom.csv\",index=False )"
   ]
  },
  {
   "cell_type": "code",
   "execution_count": null,
   "id": "18fd8cfa",
   "metadata": {},
   "outputs": [],
   "source": []
  }
 ],
 "metadata": {
  "kernelspec": {
   "display_name": "Python 3 (ipykernel)",
   "language": "python",
   "name": "python3"
  },
  "language_info": {
   "codemirror_mode": {
    "name": "ipython",
    "version": 3
   },
   "file_extension": ".py",
   "mimetype": "text/x-python",
   "name": "python",
   "nbconvert_exporter": "python",
   "pygments_lexer": "ipython3",
   "version": "3.9.13"
  },
  "vscode": {
   "interpreter": {
    "hash": "ad2bdc8ecc057115af97d19610ffacc2b4e99fae6737bb82f5d7fb13d2f2c186"
   }
  }
 },
 "nbformat": 4,
 "nbformat_minor": 5
}
