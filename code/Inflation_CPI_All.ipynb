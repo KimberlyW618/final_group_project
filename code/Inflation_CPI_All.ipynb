{
 "cells": [
  {
   "cell_type": "code",
   "execution_count": 51,
   "id": "8840206d",
   "metadata": {},
   "outputs": [],
   "source": [
    "\n",
    "import pandas as pd\n",
    "from splinter import Browser\n",
    "from bs4 import BeautifulSoup as soup\n",
    "from webdriver_manager.chrome import ChromeDriverManager\n",
    "import numpy as np"
   ]
  },
  {
   "cell_type": "code",
   "execution_count": 52,
   "id": "8622344c",
   "metadata": {},
   "outputs": [],
   "source": [
    "executable_path = {'executable_path': ChromeDriverManager().install()}\n",
    "browser = Browser('chrome', **executable_path, headless=False)"
   ]
  },
  {
   "cell_type": "code",
   "execution_count": 53,
   "id": "3ce69cdf",
   "metadata": {},
   "outputs": [],
   "source": [
    "url = 'https://www.minneapolisfed.org/about-us/monetary-policy/inflation-calculator/consumer-price-index-1913-'\n",
    "browser.visit(url)"
   ]
  },
  {
   "cell_type": "code",
   "execution_count": 54,
   "id": "44893898",
   "metadata": {},
   "outputs": [],
   "source": [
    "html = browser.html\n",
    "html_soup = soup(html, 'html.parser')"
   ]
  },
  {
   "cell_type": "code",
   "execution_count": 55,
   "id": "7ee25cc4",
   "metadata": {},
   "outputs": [],
   "source": [
    "extracted_titles = html_soup.find_all('div','i9-e-table__container i9-e-table__container--light')"
   ]
  },
  {
   "cell_type": "code",
   "execution_count": 56,
   "id": "fa1322fa",
   "metadata": {},
   "outputs": [],
   "source": [
    "out = []\n",
    "\n",
    "for i in extracted_titles[0].find_all('tr'):\n",
    "    j = i.find_all('td')\n",
    "    out.append([k.get_text().strip() for k in j])"
   ]
  },
  {
   "cell_type": "code",
   "execution_count": 57,
   "id": "c09516ca",
   "metadata": {},
   "outputs": [],
   "source": [
    "out = out[1:]"
   ]
  },
  {
   "cell_type": "code",
   "execution_count": 58,
   "id": "c28221c7",
   "metadata": {},
   "outputs": [
    {
     "data": {
      "text/html": [
       "<div>\n",
       "<style scoped>\n",
       "    .dataframe tbody tr th:only-of-type {\n",
       "        vertical-align: middle;\n",
       "    }\n",
       "\n",
       "    .dataframe tbody tr th {\n",
       "        vertical-align: top;\n",
       "    }\n",
       "\n",
       "    .dataframe thead th {\n",
       "        text-align: right;\n",
       "    }\n",
       "</style>\n",
       "<table border=\"1\" class=\"dataframe\">\n",
       "  <thead>\n",
       "    <tr style=\"text-align: right;\">\n",
       "      <th></th>\n",
       "      <th>Year</th>\n",
       "      <th>Annual Average CPI(-U)</th>\n",
       "      <th>rate_of_inflation</th>\n",
       "    </tr>\n",
       "  </thead>\n",
       "  <tbody>\n",
       "    <tr>\n",
       "      <th>0</th>\n",
       "      <td>1913</td>\n",
       "      <td>9.9</td>\n",
       "      <td></td>\n",
       "    </tr>\n",
       "    <tr>\n",
       "      <th>1</th>\n",
       "      <td>1914</td>\n",
       "      <td>10.0</td>\n",
       "      <td>1.3%</td>\n",
       "    </tr>\n",
       "    <tr>\n",
       "      <th>2</th>\n",
       "      <td>1915</td>\n",
       "      <td>10.1</td>\n",
       "      <td>0.9%</td>\n",
       "    </tr>\n",
       "    <tr>\n",
       "      <th>3</th>\n",
       "      <td>1916</td>\n",
       "      <td>10.9</td>\n",
       "      <td>7.7%</td>\n",
       "    </tr>\n",
       "    <tr>\n",
       "      <th>4</th>\n",
       "      <td>1917</td>\n",
       "      <td>12.8</td>\n",
       "      <td>17.8%</td>\n",
       "    </tr>\n",
       "    <tr>\n",
       "      <th>...</th>\n",
       "      <td>...</td>\n",
       "      <td>...</td>\n",
       "      <td>...</td>\n",
       "    </tr>\n",
       "    <tr>\n",
       "      <th>105</th>\n",
       "      <td>2018</td>\n",
       "      <td>251.1</td>\n",
       "      <td>2.4%</td>\n",
       "    </tr>\n",
       "    <tr>\n",
       "      <th>106</th>\n",
       "      <td>2019</td>\n",
       "      <td>255.7</td>\n",
       "      <td>1.8%</td>\n",
       "    </tr>\n",
       "    <tr>\n",
       "      <th>107</th>\n",
       "      <td>2020</td>\n",
       "      <td>258.8</td>\n",
       "      <td>1.2%</td>\n",
       "    </tr>\n",
       "    <tr>\n",
       "      <th>108</th>\n",
       "      <td>2021</td>\n",
       "      <td>271.0</td>\n",
       "      <td>4.7%</td>\n",
       "    </tr>\n",
       "    <tr>\n",
       "      <th>109</th>\n",
       "      <td>2022*</td>\n",
       "      <td>294.4</td>\n",
       "      <td>8.6%</td>\n",
       "    </tr>\n",
       "  </tbody>\n",
       "</table>\n",
       "<p>110 rows × 3 columns</p>\n",
       "</div>"
      ],
      "text/plain": [
       "      Year Annual Average CPI(-U) rate_of_inflation\n",
       "0     1913                    9.9                  \n",
       "1     1914                   10.0              1.3%\n",
       "2     1915                   10.1              0.9%\n",
       "3     1916                   10.9              7.7%\n",
       "4     1917                   12.8             17.8%\n",
       "..     ...                    ...               ...\n",
       "105   2018                  251.1              2.4%\n",
       "106   2019                  255.7              1.8%\n",
       "107   2020                  258.8              1.2%\n",
       "108   2021                  271.0              4.7%\n",
       "109  2022*                  294.4              8.6%\n",
       "\n",
       "[110 rows x 3 columns]"
      ]
     },
     "execution_count": 58,
     "metadata": {},
     "output_type": "execute_result"
    }
   ],
   "source": [
    "df=pd.DataFrame(out,columns=[\"Year\",\"Annual Average CPI(-U)\",\"rate_of_inflation\"])\n",
    "df"
   ]
  },
  {
   "cell_type": "code",
   "execution_count": 59,
   "id": "e0fdb29b",
   "metadata": {},
   "outputs": [],
   "source": [
    "df=df.replace(\"2022*\",\"2022\")\n",
    "df[\"Year\"]=df[\"Year\"].astype(int)\n",
    "df[\"Annual Average CPI(-U)\"]=df[\"Annual Average CPI(-U)\"].astype(float)"
   ]
  },
  {
   "cell_type": "code",
   "execution_count": 60,
   "id": "093e370b",
   "metadata": {},
   "outputs": [
    {
     "data": {
      "text/plain": [
       "Year                        int32\n",
       "Annual Average CPI(-U)    float64\n",
       "rate_of_inflation          object\n",
       "dtype: object"
      ]
     },
     "execution_count": 60,
     "metadata": {},
     "output_type": "execute_result"
    }
   ],
   "source": [
    "df.dtypes"
   ]
  },
  {
   "cell_type": "code",
   "execution_count": 63,
   "id": "99643a21",
   "metadata": {},
   "outputs": [],
   "source": [
    "df[\"rate_of_inflation\"] = df[\"rate_of_inflation\"].str.replace(\"%\", \"\")\n",
    "df[\"rate_of_inflation\"] = df[\"rate_of_inflation\"].replace('', np.nan)\n",
    "df['rate_of_inflation'] = df['rate_of_inflation'].astype(float)\n",
    "\n",
    "\n",
    "\n",
    "\n"
   ]
  },
  {
   "cell_type": "code",
   "execution_count": 64,
   "id": "11f408ce",
   "metadata": {},
   "outputs": [
    {
     "data": {
      "text/plain": [
       "Year                        int32\n",
       "Annual Average CPI(-U)    float64\n",
       "rate_of_inflation         float64\n",
       "dtype: object"
      ]
     },
     "execution_count": 64,
     "metadata": {},
     "output_type": "execute_result"
    }
   ],
   "source": [
    "df.dtypes"
   ]
  },
  {
   "cell_type": "code",
   "execution_count": 66,
   "id": "00372a3f",
   "metadata": {},
   "outputs": [],
   "source": [
    "df.to_csv(\"Inflation_CPI_All.csv\")"
   ]
  },
  {
   "cell_type": "code",
   "execution_count": null,
   "id": "1629292d",
   "metadata": {},
   "outputs": [],
   "source": []
  },
  {
   "cell_type": "code",
   "execution_count": null,
   "id": "8b5b09da",
   "metadata": {},
   "outputs": [],
   "source": []
  }
 ],
 "metadata": {
  "kernelspec": {
   "display_name": "Python 3 (ipykernel)",
   "language": "python",
   "name": "python3"
  },
  "language_info": {
   "codemirror_mode": {
    "name": "ipython",
    "version": 3
   },
   "file_extension": ".py",
   "mimetype": "text/x-python",
   "name": "python",
   "nbconvert_exporter": "python",
   "pygments_lexer": "ipython3",
   "version": "3.9.13"
  }
 },
 "nbformat": 4,
 "nbformat_minor": 5
}
